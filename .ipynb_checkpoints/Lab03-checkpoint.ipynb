{
 "cells": [
  {
   "cell_type": "markdown",
   "id": "e8ba9aac",
   "metadata": {},
   "source": [
    "Data Science Academy\n",
    "\n",
    "Fundamentos de Linguagem Python para Ánalise de Dados e Data Science\n",
    "\n",
    "Capítulo 3 - Introdução à lógica de Programação"
   ]
  },
  {
   "cell_type": "code",
   "execution_count": 6,
   "id": "ab6851ff",
   "metadata": {},
   "outputs": [
    {
     "name": "stdout",
     "output_type": "stream",
     "text": [
      "Versão da Linguagem Python usada neste Jupyter Notebook: 3.9.13\n"
     ]
    }
   ],
   "source": [
    "#versão da Linguagem Python\n",
    "from platform import python_version\n",
    "print('Versão da Linguagem Python usada neste Jupyter Notebook:', python_version())"
   ]
  },
  {
   "cell_type": "markdown",
   "id": "605b8e5e",
   "metadata": {},
   "source": [
    "Pressione as teclas shift e enter para executar o código em uma célula ou pressione o botão Run no menu superior:\n",
    "\n",
    "Pseudocódigo 1 - Calcular a Área de um Paralelograma\n",
    "\n",
    "Nota: Um paralelogramo é um quadrilátero com lados opostos paralelos (e portanto ângulos opostos iguais). Um quadrilátero com lados iguais é chamado de losango e um paralelogramo cujos ângulos retos é chamado retângulo.\n",
    "\n",
    "Inicie\n",
    "\n",
    "        Exiba \"Bem-vindo ao Calculador de Área de Paralelograma!'.\n",
    "        Peça para o usuário inserir o comprimento da base.\n",
    "        Armazene o comprimento da base em uma variável.\n",
    "        Peça para o usuário inserir a altura.\n",
    "        Armazene a altura em uma variável.\n",
    "        Calcule a área do paralelogramo: base * altura\n",
    "        Armazene o resultado em uma variável.\n",
    "        Imprima o resultado.\n",
    "        \n",
    "Fim"
   ]
  },
  {
   "cell_type": "code",
   "execution_count": 12,
   "id": "c7af357a",
   "metadata": {},
   "outputs": [
    {
     "name": "stdout",
     "output_type": "stream",
     "text": [
      "Bem-vindo ao Calculador de Área de Paralelograma!\n",
      "Insira o comprimento da base: 3\n",
      "Insira a altura: 6\n",
      "A área do paralelograma é:  18.0\n"
     ]
    }
   ],
   "source": [
    "print('Bem-vindo ao Calculador de Área de Paralelograma!')\n",
    "\n",
    "base = float(input(\"Insira o comprimento da base: \"))\n",
    "altura = float(input(\"Insira a altura: \"))\n",
    "area = base * altura\n",
    "\n",
    "print (\"A área do paralelograma é: \",area)"
   ]
  },
  {
   "cell_type": "code",
   "execution_count": null,
   "id": "581d7a34",
   "metadata": {},
   "outputs": [],
   "source": []
  }
 ],
 "metadata": {
  "kernelspec": {
   "display_name": "Python 3 (ipykernel)",
   "language": "python",
   "name": "python3"
  },
  "language_info": {
   "codemirror_mode": {
    "name": "ipython",
    "version": 3
   },
   "file_extension": ".py",
   "mimetype": "text/x-python",
   "name": "python",
   "nbconvert_exporter": "python",
   "pygments_lexer": "ipython3",
   "version": "3.9.13"
  }
 },
 "nbformat": 4,
 "nbformat_minor": 5
}
