{
 "cells": [
  {
   "cell_type": "markdown",
   "id": "e8ba9aac",
   "metadata": {},
   "source": [
    "# Data Science Academy\n",
    "\n",
    "## Fundamentos de Linguagem Python para Ánalise de Dados e Data Science\n",
    "\n",
    "### Capítulo 3 - Introdução à lógica de Programação"
   ]
  },
  {
   "cell_type": "code",
   "execution_count": 6,
   "id": "9944d2ce",
   "metadata": {},
   "outputs": [
    {
     "name": "stdout",
     "output_type": "stream",
     "text": [
      "Versão da Linguagem Python usada neste Jupyter Notebook: 3.9.13\n"
     ]
    }
   ],
   "source": [
    "#versão da Linguagem Python\n",
    "from platform import python_version\n",
    "print('Versão da Linguagem Python usada neste Jupyter Notebook:', python_version())"
   ]
  },
  {
   "cell_type": "markdown",
   "id": "492d831e",
   "metadata": {},
   "source": [
    "Pressione as teclas shift e enter para executar o código em uma célula ou pressione o botão Run no menu superior:\n",
    "\n",
    "### Pseudocódigo 1 - Calcular a Área de um Paralelograma\n",
    "\n",
    "Nota: Um paralelogramo é um quadrilátero com lados opostos paralelos (e portanto ângulos opostos iguais). Um quadrilátero com lados iguais é chamado de losango e um paralelogramo cujos ângulos retos é chamado retângulo.\n",
    "\n",
    "#### Inicie\n",
    "\n",
    "        Exiba \"Bem-vindo ao Calculador de Área de Paralelograma!'.\n",
    "        Peça para o usuário inserir o comprimento da base.\n",
    "        Armazene o comprimento da base em uma variável.\n",
    "        Peça para o usuário inserir a altura.\n",
    "        Armazene a altura em uma variável.\n",
    "        Calcule a área do paralelogramo: base * altura\n",
    "        Armazene o resultado em uma variável.\n",
    "        Imprima o resultado.\n",
    "        \n",
    "#### Fim"
   ]
  },
  {
   "cell_type": "code",
   "execution_count": 12,
   "id": "c7af357a",
   "metadata": {},
   "outputs": [
    {
     "name": "stdout",
     "output_type": "stream",
     "text": [
      "Bem-vindo ao Calculador de Área de Paralelograma!\n",
      "Insira o comprimento da base: 3\n",
      "Insira a altura: 6\n",
      "A área do paralelograma é:  18.0\n"
     ]
    }
   ],
   "source": [
    "print('Bem-vindo ao Calculador de Área de Paralelograma!')\n",
    "\n",
    "base = float(input(\"Insira o comprimento da base: \"))\n",
    "altura = float(input(\"Insira a altura: \"))\n",
    "area = base * altura\n",
    "\n",
    "print (\"A área do paralelograma é: \",area)"
   ]
  },
  {
   "cell_type": "markdown",
   "id": "b736d528",
   "metadata": {},
   "source": [
    "### Pseudocódigo 2 - Calculadora Simples\n",
    "\n",
    "#### Inicie\n",
    "\n",
    "        Exiba \"Bem-vindo a Calculadora Simples!'.\n",
    "        Peça para o usuário inserir o primeiro valor.\n",
    "        Armazene o primeiro valor em uma variável.\n",
    "        Peça para o usuário qual o tipo de calculo. (+, -, *, /)\n",
    "        Armazene o tipo de calculo em uma variável.\n",
    "        Peça para o usuário inserir o segundo valor.\n",
    "        Armazene o segundo valor em uma variável.\n",
    "        Valide o tipo de calculo selecionado.\n",
    "        Se o tipo for +. valor1 + valor2\n",
    "        Armazene o resultado em uma variável.\n",
    "        Se o tipo for -. valor1 - valor2\n",
    "        Armazene o resultado em uma variável.\n",
    "        Se o tipo for *. valor1 * valor2\n",
    "        Armazene o resultado em uma variável.\n",
    "        Se o tipo for /. valide se valor2 não é 0 e depois valor1 - valor2.\n",
    "        Armazene o resultado em uma variável.\n",
    "        Se o valor2 for 0 imprima. \"Erro: Divisão por zero!\"\n",
    "        Se o tipo for diferente de (+, -, *, /) imprima. \"Operação inválida!\"\n",
    "        Imprima o resultado.\n",
    "        \n",
    "#### Fim"
   ]
  },
  {
   "cell_type": "code",
   "execution_count": 24,
   "id": "1b419441",
   "metadata": {},
   "outputs": [
    {
     "name": "stdout",
     "output_type": "stream",
     "text": [
      "Bem-vindo a Calculadora Simples!\n",
      "Insira o primeiro valor: 3\n",
      "Insira o tipo de cálculo (+, -, *, /): 3\n",
      "Insira o segundo valor: 3\n",
      "Operação inválida!\n"
     ]
    }
   ],
   "source": [
    "print('Bem-vindo a Calculadora Simples!')\n",
    "\n",
    "valor1 = float(input(\"Insira o primeiro valor: \"))\n",
    "tipo   = input(\"Insira o tipo de cálculo (+, -, *, /): \")\n",
    "valor2 = float(input(\"Insira o segundo valor: \"))\n",
    "\n",
    "if tipo == '+':\n",
    "    resultado = valor1 + valor2\n",
    "elif tipo == '-':\n",
    "    resultado = valor1 - valor2\n",
    "elif tipo == '*':\n",
    "    resultado = valor1 * valor2\n",
    "elif tipo == '/':\n",
    "    if valor2 != 0:  # Verifica se o divisor não é zero\n",
    "        resultado = valor1 / valor2\n",
    "    else:\n",
    "        print(\"Erro: Divisão por zero!\")\n",
    "        resultado = None  # Define o resultado como None em caso de erro\n",
    "else:\n",
    "    print(\"Operação inválida!\")\n",
    "    resultado = None  # Define o resultado como None em caso de operação inválida\n",
    "\n",
    "# Verifica se o resultado não é None antes de imprimir\n",
    "if resultado is not None:\n",
    "    print(\"O resultado de {} {} {} é: {}\".format(valor1, tipo, valor2, resultado))\n"
   ]
  }
 ],
 "metadata": {
  "kernelspec": {
   "display_name": "Python 3 (ipykernel)",
   "language": "python",
   "name": "python3"
  },
  "language_info": {
   "codemirror_mode": {
    "name": "ipython",
    "version": 3
   },
   "file_extension": ".py",
   "mimetype": "text/x-python",
   "name": "python",
   "nbconvert_exporter": "python",
   "pygments_lexer": "ipython3",
   "version": "3.9.13"
  }
 },
 "nbformat": 4,
 "nbformat_minor": 5
}
