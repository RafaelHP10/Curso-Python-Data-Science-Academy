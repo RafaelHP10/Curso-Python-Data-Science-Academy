{
 "cells": [
  {
   "cell_type": "markdown",
   "metadata": {},
   "source": [
    "### Exemplo de resultado experado\n",
    "\n",
    "-----------------------------Calculadora em Python-----------------------------\n",
    "\n",
    "Selecione o número da operação desejada:\n",
    "\n",
    "    1 - Soma\n",
    "    2 - Subtração\n",
    "    3 - Multiplicação\n",
    "    4 - Divisão\n",
    "\n",
    "Digite sua opção (1/2/3/4): 1\n",
    "\n",
    "Digite o primeiro número: 23\n",
    "\n",
    "Digite o segundo número: 45\n",
    "\n",
    "23 + 45 = 68"
   ]
  },
  {
   "cell_type": "code",
   "execution_count": null,
   "metadata": {},
   "outputs": [],
   "source": []
  }
 ],
 "metadata": {
  "language_info": {
   "name": "python"
  }
 },
 "nbformat": 4,
 "nbformat_minor": 2
}
