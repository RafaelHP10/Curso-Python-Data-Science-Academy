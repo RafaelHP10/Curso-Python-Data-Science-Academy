{
 "cells": [
  {
   "cell_type": "code",
   "execution_count": null,
   "id": "84d6987a",
   "metadata": {},
   "outputs": [
    {
     "name": "stdout",
     "output_type": "stream",
     "text": [
      "A contagem é 50 e a soma é 2550\n"
     ]
    }
   ],
   "source": [
    "#Criando Lista normal\n",
    "numeros = list(range(1,101))\n",
    "\n",
    "contagem = 0\n",
    "soma = 0\n",
    "\n",
    "#Criando \n",
    "for numero in numeros:\n",
    "    if numero % 2 == 0 or numero % 4 == 0:\n",
    "        contagem += 1\n",
    "        soma += numero\n",
    "        \n",
    "#Imprimir ao final\n",
    "print('A contagem é',contagem,'e a soma é',soma)"
   ]
  },
  {
   "cell_type": "code",
   "execution_count": 24,
   "id": "2d4512a8",
   "metadata": {},
   "outputs": [
    {
     "name": "stdout",
     "output_type": "stream",
     "text": [
      "A contagem é 50 e a soma é 2550\n"
     ]
    }
   ],
   "source": [
    "numeros = list(range(1, 101))\n",
    "\n",
    "contagem = sum(1 for numero in numeros if numero % 2 == 0 or numero % 4 == 0)\n",
    "soma = sum(numero for numero in numeros if numero % 2 == 0 or numero % 4 == 0)\n",
    "\n",
    "# Imprimir apenas o resultado final\n",
    "print('A contagem é',contagem, 'e a soma é', soma)\n"
   ]
  },
  {
   "cell_type": "code",
   "execution_count": null,
   "id": "98a4a53e",
   "metadata": {},
   "outputs": [],
   "source": []
  }
 ],
 "metadata": {
  "kernelspec": {
   "display_name": "Python 3 (ipykernel)",
   "language": "python",
   "name": "python3"
  },
  "language_info": {
   "codemirror_mode": {
    "name": "ipython",
    "version": 3
   },
   "file_extension": ".py",
   "mimetype": "text/x-python",
   "name": "python",
   "nbconvert_exporter": "python",
   "pygments_lexer": "ipython3",
   "version": "3.9.13"
  }
 },
 "nbformat": 4,
 "nbformat_minor": 5
}
