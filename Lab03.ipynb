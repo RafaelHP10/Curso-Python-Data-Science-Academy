{
 "cells": [
  {
   "cell_type": "markdown",
   "id": "e8ba9aac",
   "metadata": {},
   "source": [
    "# Data Science Academy\n",
    "\n",
    "## Fundamentos de Linguagem Python para Ánalise de Dados e Data Science\n",
    "\n",
    "### Capítulo 3 - Introdução à lógica de Programação"
   ]
  },
  {
   "cell_type": "code",
   "execution_count": 2,
   "id": "9944d2ce",
   "metadata": {},
   "outputs": [
    {
     "name": "stdout",
     "output_type": "stream",
     "text": [
      "Versão da Linguagem Python usada neste Jupyter Notebook: 3.9.13\n"
     ]
    }
   ],
   "source": [
    "#versão da Linguagem Python\n",
    "from platform import python_version\n",
    "print('Versão da Linguagem Python usada neste Jupyter Notebook:', python_version())"
   ]
  },
  {
   "cell_type": "markdown",
   "id": "492d831e",
   "metadata": {},
   "source": [
    "Pressione as teclas shift e enter para executar o código em uma célula ou pressione o botão Run no menu superior:\n",
    "\n",
    "### Pseudocódigo 1 - Calcular a Área de um Paralelograma\n",
    "\n",
    "Nota: Um paralelogramo é um quadrilátero com lados opostos paralelos (e portanto ângulos opostos iguais). Um quadrilátero com lados iguais é chamado de losango e um paralelogramo cujos ângulos retos é chamado retângulo.\n",
    "\n",
    "#### Inicie\n",
    "\n",
    "        Exiba \"Bem-vindo ao Calculador de Área de Paralelograma!'.\n",
    "        Peça para o usuário inserir o comprimento da base.\n",
    "        Armazene o comprimento da base em uma variável.\n",
    "        Peça para o usuário inserir a altura.\n",
    "        Armazene a altura em uma variável.\n",
    "        Calcule a área do paralelogramo: base * altura\n",
    "        Armazene o resultado em uma variável.\n",
    "        Imprima o resultado.\n",
    "        \n",
    "#### Fim\n",
    "======================================================================================================================="
   ]
  },
  {
   "cell_type": "code",
   "execution_count": 3,
   "id": "c7af357a",
   "metadata": {},
   "outputs": [
    {
     "name": "stdout",
     "output_type": "stream",
     "text": [
      "Bem-vindo ao Calculador de Área de Paralelograma!\n",
      "Insira o comprimento da base: 3\n",
      "Insira a altura: 3\n",
      "A área do paralelograma é:  9.0\n"
     ]
    }
   ],
   "source": [
    "print('Bem-vindo ao Calculador de Área de Paralelograma!')\n",
    "\n",
    "base = float(input(\"Insira o comprimento da base: \")) #float define a variavel como numero flutuante com casas decimais\n",
    "altura = float(input(\"Insira a altura: \"))\n",
    "area = base * altura\n",
    "\n",
    "print (\"A área do paralelograma é: \",area)"
   ]
  },
  {
   "cell_type": "markdown",
   "id": "b736d528",
   "metadata": {},
   "source": [
    "=======================================================================================================================\n",
    "### Pseudocódigo 2 - Calculadora Simples\n",
    "\n",
    "#### Inicie\n",
    "\n",
    "        Exiba \"Bem-vindo a Calculadora Simples!'.\n",
    "        Peça para o usuário inserir o primeiro valor.\n",
    "        Armazene o primeiro valor em uma variável.\n",
    "        Peça para o usuário qual o tipo de calculo. (+, -, *, /)\n",
    "        Armazene o tipo de calculo em uma variável.\n",
    "        Peça para o usuário inserir o segundo valor.\n",
    "        Armazene o segundo valor em uma variável.\n",
    "        Valide o tipo de calculo selecionado.\n",
    "        Se o tipo for +. valor1 + valor2\n",
    "        Armazene o resultado em uma variável.\n",
    "        Se o tipo for -. valor1 - valor2\n",
    "        Armazene o resultado em uma variável.\n",
    "        Se o tipo for *. valor1 * valor2\n",
    "        Armazene o resultado em uma variável.\n",
    "        Se o tipo for /. valide se valor2 não é 0 e depois valor1 - valor2.\n",
    "        Armazene o resultado em uma variável.\n",
    "        Se o valor2 for 0 imprima. \"Erro: Divisão por zero!\"\n",
    "        Se o tipo for diferente de (+, -, *, /) imprima. \"Operação inválida!\"\n",
    "        Imprima o resultado.\n",
    "        \n",
    "#### Fim\n",
    "======================================================================================================================="
   ]
  },
  {
   "cell_type": "code",
   "execution_count": 1,
   "id": "1b419441",
   "metadata": {},
   "outputs": [
    {
     "name": "stdout",
     "output_type": "stream",
     "text": [
      "Bem-vindo a Calculadora Simples!\n",
      "Insira o primeiro valor: 0\n",
      "Insira o tipo de cálculo (+, -, *, /): /\n",
      "Insira o segundo valor: 3\n",
      "O resultado de 0.0 / 3.0 é: 0.0\n"
     ]
    }
   ],
   "source": [
    "print('Bem-vindo a Calculadora Simples!')\n",
    "\n",
    "valor1 = float(input(\"Insira o primeiro valor: \"))\n",
    "tipo   = input(\"Insira o tipo de cálculo (+, -, *, /): \")\n",
    "valor2 = float(input(\"Insira o segundo valor: \"))\n",
    "\n",
    "if tipo == '+':\n",
    "    resultado = valor1 + valor2\n",
    "elif tipo == '-':\n",
    "    resultado = valor1 - valor2\n",
    "elif tipo == '*':\n",
    "    resultado = valor1 * valor2\n",
    "elif tipo == '/':\n",
    "    if valor2 != 0:  # Verifica se o divisor não é zero\n",
    "        resultado = valor1 / valor2\n",
    "    else:\n",
    "        print(\"Erro: Divisão por zero!\")\n",
    "        resultado = None  # Define o resultado como None em caso de erro\n",
    "else:\n",
    "    print(\"Operação inválida!\")\n",
    "    resultado = None  # Define o resultado como None em caso de operação inválida\n",
    "\n",
    "# Verifica se o resultado não é None antes de imprimir\n",
    "if resultado is not None:\n",
    "    print(\"O resultado de {} {} {} é: {}\".format(valor1, tipo, valor2, resultado))\n"
   ]
  },
  {
   "cell_type": "markdown",
   "id": "af354f3f",
   "metadata": {},
   "source": [
    "=======================================================================================================================\n",
    "# Pseudocódigo 3 - Algoritmo Bubble Sort\n",
    "\n",
    "Bubble Sort é um algoritmo de ordenação simples que funciona comparando cada elemento com o próximo, e trocando-se de lugar se eles estiverem em ordem incorreta. O algoritmo repete esse processo várias vezes, até que todos os elementos estejam ordenados. A cada passagem, o maior elemento \"flutua\" para o final do array, como uma bolha, dando origem ao nome do algoritmo.\n",
    "\n",
    "#### Inicie\n",
    "\n",
    "            Para cada elemnto de i no array de tamanho n\n",
    "                para cada elemento j no array de tamanho n - 1\n",
    "                    se elemento i for maior que elemento j\n",
    "                        troque os elementos i e j\n",
    "            Exiba o array ordenado\n",
    "\n",
    "#### Fim\n",
    "======================================================================================================================="
   ]
  },
  {
   "cell_type": "code",
   "execution_count": 8,
   "id": "6064b1f2",
   "metadata": {},
   "outputs": [
    {
     "name": "stdout",
     "output_type": "stream",
     "text": [
      "[0, 1, 3, 4, 6, 7, 8, 10, 11, 12, 16, 17, 19, 21, 29, 30, 34, 39, 43, 56, 61, 67, 82]\n",
      "[36, 64, 554, 568, 2188, 5148, 5168, 5645, 51864, 85484, 486483543]\n"
     ]
    }
   ],
   "source": [
    "lista = [6,7,8,3,10,19,4,1,0,61,30,16,17,82,29,34,43,21,11,39,56,67,12]\n",
    "lista2 = [36,64,5645,554,568,5168,51864,486483543,85484,5148,2188]\n",
    "\n",
    "def bubble_sort(arr):\n",
    "    \n",
    "    n = len(arr)\n",
    "    \n",
    "    # Para cada elemento i do array\n",
    "    for i in range(n):\n",
    "        \n",
    "        # Para cada elemento j do array\n",
    "        for j in range(0, n-i-1):\n",
    "            \n",
    "            # Se elemento i for maior que elemento j\n",
    "            if arr[j] > arr[j+1]:\n",
    "                \n",
    "                # Troque os elementos i e j\n",
    "                arr[j], arr[j+1] = arr[j+1], arr[j]\n",
    "                \n",
    "    return arr\n",
    "\n",
    "print(bubble_sort(lista))\n",
    "print(bubble_sort(lista2))"
   ]
  },
  {
   "cell_type": "markdown",
   "id": "4bec6384",
   "metadata": {},
   "source": [
    "Parece mágica! Mas não é. É a beleza da programação de computadores!\n",
    "\n",
    "# Fim\n",
    "\n",
    "## Obrigado"
   ]
  },
  {
   "cell_type": "code",
   "execution_count": null,
   "id": "f0c006fd",
   "metadata": {},
   "outputs": [],
   "source": []
  }
 ],
 "metadata": {
  "kernelspec": {
   "display_name": "Python 3 (ipykernel)",
   "language": "python",
   "name": "python3"
  },
  "language_info": {
   "codemirror_mode": {
    "name": "ipython",
    "version": 3
   },
   "file_extension": ".py",
   "mimetype": "text/x-python",
   "name": "python",
   "nbconvert_exporter": "python",
   "pygments_lexer": "ipython3",
   "version": "3.9.13"
  }
 },
 "nbformat": 4,
 "nbformat_minor": 5
}
