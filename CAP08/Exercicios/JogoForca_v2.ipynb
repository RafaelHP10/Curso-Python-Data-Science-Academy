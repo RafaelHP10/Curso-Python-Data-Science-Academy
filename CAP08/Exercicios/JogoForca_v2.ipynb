{
 "cells": [
  {
   "cell_type": "markdown",
   "metadata": {},
   "source": [
    "# Data Science Academy\n",
    "\n",
    "## Fundamentos de Linguagem Python Para Análise de Dados e Data Science\n",
    "\n",
    "### CAP 07 - Projeto 1 - Jogo da Forca"
   ]
  },
  {
   "cell_type": "code",
   "execution_count": 32,
   "metadata": {},
   "outputs": [
    {
     "name": "stdout",
     "output_type": "stream",
     "text": [
      "Versão da Linguagem Python Usada Neste Jupyter Notebook: 3.11.7\n"
     ]
    }
   ],
   "source": [
    "# Versão da Linguagem Python\n",
    "from platform import python_version\n",
    "print('Versão da Linguagem Python Usada Neste Jupyter Notebook:', python_version())"
   ]
  },
  {
   "cell_type": "markdown",
   "metadata": {},
   "source": [
    "### CAP 07 - Projeto 1 - Jogo da Forca"
   ]
  },
  {
   "cell_type": "code",
   "execution_count": 2,
   "metadata": {},
   "outputs": [],
   "source": [
    "#Importa o faker para gerar um nome de estado aleatorio\n",
    "from faker import Faker\n",
    "\n",
    "#Defini que o padrão do faker vai ser pt-br\n",
    "fake = Faker('pt_BR')\n",
    "\n",
    "#Importa o unicodedata para retirar acentuação\n",
    "import unicodedata\n",
    "\n",
    "from os import system, name"
   ]
  },
  {
   "cell_type": "code",
   "execution_count": 8,
   "metadata": {},
   "outputs": [],
   "source": [
    "class jogoForca:\n",
    "\n",
    "    #Função para gerar o nome de estado aleatório\n",
    "    def __init__(self):\n",
    "        self.nome   = fake.administrative_unit()\n",
    "        print(\"Nome de estado gerado.\")\n",
    "\n",
    "    def remove_acentuacao(texto):\n",
    "        # Normaliza o texto para decompor caracteres acentuados em caracteres base e diacríticos separados\n",
    "        texto_normalizado = unicodedata.normalize('NFKD', texto)\n",
    "        # Filtra apenas caracteres que não são diacríticos\n",
    "        texto_sem_acentos = ''.join(c for c in texto_normalizado if not unicodedata.combining(c))\n",
    "        return texto_sem_acentos\n",
    "    \n",
    "    #Função para atualizar o resultado incluindo as letras que o chute acertou\n",
    "    def atualiza_resultado(lista_nome, chute, resultado):\n",
    "        for i, x in enumerate(lista_nome):\n",
    "            if x == chute:\n",
    "                resultado[i] = chute\n",
    "        return resultado\n",
    "    \n",
    "    #Verificando se toda a palavra já foi descoberta\n",
    "    def valida_resultado(resultado):\n",
    "        if '' in resultado:\n",
    "            return False\n",
    "        else:\n",
    "            return True\n",
    "        \n",
    "    #Verifica se o chute é uma letra e tem apenas 1 caracter\n",
    "    def valida_chute():\n",
    "        while True:\n",
    "            letra = input(\"Digite uma letra!\")\n",
    "            if len(letra) == 1 and letra.isalpha():\n",
    "                return letra\n",
    "            else:\n",
    "                print(\"Tente novamente!\")\n",
    "\n",
    "    #Função para limpar a tela a cada execução\n",
    "    def limpa_tela():\n",
    "\n",
    "        #Windows\n",
    "        if name == 'nt':\n",
    "            _ = system('cls')\n",
    "        \n",
    "        #Mac ou Linux\n",
    "        else:\n",
    "            _ = system('clear')"
   ]
  },
  {
   "cell_type": "code",
   "execution_count": 9,
   "metadata": {},
   "outputs": [
    {
     "name": "stdout",
     "output_type": "stream",
     "text": [
      "Nome de estado gerado.\n"
     ]
    },
    {
     "data": {
      "text/plain": [
       "<__main__.jogoForca at 0x1f7d3e5a910>"
      ]
     },
     "execution_count": 9,
     "metadata": {},
     "output_type": "execute_result"
    }
   ],
   "source": [
    "#Limpa a tela pra executar o jogo\n",
    "jogoForca.limpa_tela()\n",
    "\n",
    "#Gerando o nome de estado aleatório já retirando a acentuação\n",
    "nome = jogoForca()\n",
    "\n",
    "nome"
   ]
  }
 ],
 "metadata": {
  "kernelspec": {
   "display_name": "base",
   "language": "python",
   "name": "python3"
  },
  "language_info": {
   "codemirror_mode": {
    "name": "ipython",
    "version": 3
   },
   "file_extension": ".py",
   "mimetype": "text/x-python",
   "name": "python",
   "nbconvert_exporter": "python",
   "pygments_lexer": "ipython3",
   "version": "3.11.7"
  }
 },
 "nbformat": 4,
 "nbformat_minor": 2
}
