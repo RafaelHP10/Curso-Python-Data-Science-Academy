{
 "cells": [
  {
   "cell_type": "markdown",
   "metadata": {},
   "source": [
    "# Data Science Academy\n",
    "\n",
    "## Fundamentos de Linguagem Python Para Análise de Dados e Data Science\n",
    "\n",
    "### Capítulo 8 - Introdução à Programação Orientada a Objetos"
   ]
  },
  {
   "cell_type": "code",
   "execution_count": 22,
   "metadata": {},
   "outputs": [
    {
     "name": "stdout",
     "output_type": "stream",
     "text": [
      "Versão da Linguagem Python Usada Neste Jupyter Notebook: 3.9.13\n"
     ]
    }
   ],
   "source": [
    "# Versão da Linguagem Python\n",
    "from platform import python_version\n",
    "print('Versão da Linguagem Python Usada Neste Jupyter Notebook:', python_version())"
   ]
  },
  {
   "cell_type": "markdown",
   "metadata": {},
   "source": [
    "### Trabalhando com Polimorfismo de Classes em Python\n",
    "\n",
    "Polimorfismo é um dos conceitos fundamentais da Programação Orientada a Objetos (POO). O polimorfismo permite que objetos de diferentes classes possam ser tratados de forma uniforme. Isso significa que um objeto pode ser tratado como se fosse um objeto de uma superclasse, mesmo que ela seja de uma subclasse.\n",
    "\n",
    "Mais especificamente, o polimorfismo se refere á habilidade de um objeto responder de diferentes formar a uma mesma mensage. Isso é possivel porque as subclasses podem implementar métodos com o mesmo nome que os métodos da superclasse, mas com comportamentos diferentes.\n",
    "\n",
    "Com o Polimorfismo, os mesmos atributos e métodos podem ser utilizados em objetos distintos, porém, com implementações lógicas diferentes."
   ]
  },
  {
   "cell_type": "code",
   "execution_count": 23,
   "metadata": {},
   "outputs": [],
   "source": [
    "#Superclasse\n",
    "class Veiculo:\n",
    "\n",
    "    def __init__(self, marca, modelo):\n",
    "        self.marca  = marca\n",
    "        self.modelo = modelo\n",
    "\n",
    "    def acelerar(self):\n",
    "        pass\n",
    "\n",
    "    def frear(self):\n",
    "        pass\n",
    "\n"
   ]
  },
  {
   "cell_type": "code",
   "execution_count": 24,
   "metadata": {},
   "outputs": [],
   "source": [
    "#Subclasse\n",
    "class Carro(Veiculo):\n",
    "\n",
    "    def acelerar(self):\n",
    "        print(\"O carro está acelerando.\")\n",
    "\n",
    "    def frear(self):\n",
    "        print(\"O carro está freando.\")"
   ]
  },
  {
   "cell_type": "code",
   "execution_count": 25,
   "metadata": {},
   "outputs": [],
   "source": [
    "#Subclasse\n",
    "class Moto(Veiculo):\n",
    "\n",
    "    def acelerar(self):\n",
    "        print(\"A moto está acelerando.\")\n",
    "\n",
    "    def frear(self):\n",
    "        print(\"A moto esta freando.\")"
   ]
  },
  {
   "cell_type": "code",
   "execution_count": 26,
   "metadata": {},
   "outputs": [],
   "source": [
    "#Subclasse\n",
    "class Aviao(Veiculo):\n",
    "\n",
    "    def acelerar(self):\n",
    "        print(\"A avião está acelerando.\")\n",
    "\n",
    "    def frear(self):\n",
    "        print(\"A avião esta freando.\")\n",
    "\n",
    "    def decolar(self):\n",
    "        print(\"O avião esta decolando.\")"
   ]
  },
  {
   "cell_type": "code",
   "execution_count": 27,
   "metadata": {},
   "outputs": [],
   "source": [
    "#Cria os objetos\n",
    "lista_veiculos = [Carro('Porsche','911 Turbo'), Moto('Honda','CB 1000R Black Edition'), Aviao('Boeing','757')]"
   ]
  },
  {
   "cell_type": "code",
   "execution_count": 28,
   "metadata": {},
   "outputs": [
    {
     "name": "stdout",
     "output_type": "stream",
     "text": [
      "O carro está acelerando.\n",
      "O carro está freando.\n",
      "---\n",
      "A moto está acelerando.\n",
      "A moto esta freando.\n",
      "---\n",
      "A avião está acelerando.\n",
      "A avião esta freando.\n",
      "O avião esta decolando.\n",
      "---\n"
     ]
    }
   ],
   "source": [
    "#loop\n",
    "\n",
    "for item in lista_veiculos:\n",
    "\n",
    "    #O método acelerar tem comportamento dependendo do tipo de objeto\n",
    "    item.acelerar()\n",
    "\n",
    "    #O método frear tem comportamento diferente dependendo do tipo de objeto\n",
    "    item.frear()\n",
    "\n",
    "    #Executando o método decolar somente se o objeto for instancia da classe Aviao\n",
    "    if isinstance(item, Aviao):\n",
    "        item.decolar()\n",
    "\n",
    "    print(\"---\")"
   ]
  }
 ],
 "metadata": {
  "kernelspec": {
   "display_name": "base",
   "language": "python",
   "name": "python3"
  },
  "language_info": {
   "codemirror_mode": {
    "name": "ipython",
    "version": 3
   },
   "file_extension": ".py",
   "mimetype": "text/x-python",
   "name": "python",
   "nbconvert_exporter": "python",
   "pygments_lexer": "ipython3",
   "version": "3.9.13"
  }
 },
 "nbformat": 4,
 "nbformat_minor": 2
}
