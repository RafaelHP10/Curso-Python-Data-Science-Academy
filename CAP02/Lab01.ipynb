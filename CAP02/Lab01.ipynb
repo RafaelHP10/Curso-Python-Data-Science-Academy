{
 "cells": [
  {
   "cell_type": "markdown",
   "metadata": {},
   "source": [
    "Gere código Python que crie uma lista com números entre 1 e 100 e então imprima os números pares, mas somente se o número for divisivel por 4"
   ]
  },
  {
   "cell_type": "code",
   "execution_count": null,
   "metadata": {},
   "outputs": [],
   "source": [
    "#Cria lista com os números entre 1 e 100\n",
    "numeros = list(range(1,101))\n",
    "\n",
    "#Percorre a lista e verifica se o número é par e divisivel por 4\n",
    "for numero in numeros:\n",
    "    if numero % 2 == 0 and numero % 4 == 0:\n",
    "        print(numero)"
   ]
  },
  {
   "cell_type": "markdown",
   "metadata": {},
   "source": [
    "Gere código Python que crie uma lista com números entre 1 e 100 e então imprima os números pares, mas somente se o número for divisivel por 4, usando list comprehension."
   ]
  },
  {
   "cell_type": "code",
   "execution_count": null,
   "metadata": {},
   "outputs": [],
   "source": [
    "#Exemplo com List Comprehension\n",
    "\n",
    "#Cria lista com números entre 1 e 100\n",
    "numeros = list(range(1,101))\n",
    "\n",
    "#Usa a list comprehension para gerar a lista somente com os numeros pares e divisiveis por 4\n",
    "pares_div4 = [numero for numero in numeros if numero % 2 == 0 and numero % 4 == 0]\n",
    "\n",
    "#Imprime a lista gerada\n",
    "print(pares_div4)"
   ]
  },
  {
   "cell_type": "markdown",
   "metadata": {},
   "source": [
    "### Fim"
   ]
  }
 ],
 "metadata": {
  "kernelspec": {
   "display_name": "base",
   "language": "python",
   "name": "python3"
  },
  "language_info": {
   "codemirror_mode": {
    "name": "ipython",
    "version": 3
   },
   "file_extension": ".py",
   "mimetype": "text/x-python",
   "name": "python",
   "nbconvert_exporter": "python",
   "pygments_lexer": "ipython3",
   "version": "3.9.13"
  }
 },
 "nbformat": 4,
 "nbformat_minor": 2
}
