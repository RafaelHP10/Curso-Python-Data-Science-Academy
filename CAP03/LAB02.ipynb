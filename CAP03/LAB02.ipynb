{
 "cells": [
  {
   "cell_type": "markdown",
   "metadata": {},
   "source": [
    "### Exemplo de resultado experado\n",
    "\n",
    "-----------------------------Calculadora em Python-----------------------------\n",
    "\n",
    "Selecione o número da operação desejada:\n",
    "\n",
    "    1 - Soma\n",
    "    2 - Subtração\n",
    "    3 - Multiplicação\n",
    "    4 - Divisão\n",
    "\n",
    "Digite sua opção (1/2/3/4): 1\n",
    "\n",
    "Digite o primeiro número: 23\n",
    "\n",
    "Digite o segundo número: 45\n",
    "\n",
    "\n",
    "23 + 45 = 68"
   ]
  },
  {
   "cell_type": "code",
   "execution_count": 44,
   "metadata": {},
   "outputs": [
    {
     "name": "stdout",
     "output_type": "stream",
     "text": [
      "-----------------------------Calculadora em Python-----------------------------\n",
      "Selecione o número da operação desejada:\n",
      "1 - Soma\n",
      "2 - Subtração\n",
      "3 - Multiplicação\n",
      "4 - Divisão\n",
      "Não foi digitado um numero valido, tente novamente!\n",
      "O numero é invalido, tente novamente!\n",
      "O numero é invalido, tente novamente!\n",
      "None + None = None\n"
     ]
    }
   ],
   "source": [
    "#Valida o tipo da operação da calculadora\n",
    "def validaOperacao(num):\n",
    "    try:\n",
    "        num = int(num)\n",
    "        if num > 0 and num < 5:\n",
    "            return num\n",
    "        else:\n",
    "            print(\"Operação invalida, digite um numero entre 1 e 4\")\n",
    "\n",
    "    except:\n",
    "        print(\"Não foi digitado um numero valido, tente novamente!\")\n",
    "\n",
    "#Valida se realmente foi informado um numero para o calculo em vez de um texto\n",
    "def validaNum(num):\n",
    "    try:\n",
    "        num = float(num)\n",
    "        return num\n",
    "            \n",
    "    except:\n",
    "        print(\"O numero é invalido, tente novamente!\")\n",
    "\n",
    "\n",
    "def calculo(num1,num2, operacao):\n",
    "    if operacao == 1:\n",
    "        return num1 + num2\n",
    "    elif operacao == 2:\n",
    "        return num1 - num2\n",
    "    elif operacao == 3:\n",
    "        return num1 * num2\n",
    "    elif operacao == 4:\n",
    "        if num2 != 0:\n",
    "            return num1 / num2\n",
    "        else:\n",
    "            print(\"Não é possivel fazer divisão por zero!\")\n",
    "\n",
    "print(\"-----------------------------Calculadora em Python-----------------------------\")\n",
    "print(\"Selecione o número da operação desejada:\")\n",
    "print(\"1 - Soma\")\n",
    "print(\"2 - Subtração\")\n",
    "print(\"3 - Multiplicação\")\n",
    "print(\"4 - Divisão\")\n",
    "\n",
    "operacao = validaOperacao(input(\"Digite sua opção (1/2/3/4)\"))\n",
    "\n",
    "num1 = validaNum(input(\"Digite o primeiro número:\"))\n",
    "num2 = validaNum(input(\"Digite o segundo número:\"))\n",
    "\n",
    "total = calculo(num1,num2,operacao)\n",
    "\n",
    "print(\"%s + %s = %s\" %(num1,num2,total))"
   ]
  }
 ],
 "metadata": {
  "kernelspec": {
   "display_name": "base",
   "language": "python",
   "name": "python3"
  },
  "language_info": {
   "codemirror_mode": {
    "name": "ipython",
    "version": 3
   },
   "file_extension": ".py",
   "mimetype": "text/x-python",
   "name": "python",
   "nbconvert_exporter": "python",
   "pygments_lexer": "ipython3",
   "version": "3.11.7"
  }
 },
 "nbformat": 4,
 "nbformat_minor": 2
}
