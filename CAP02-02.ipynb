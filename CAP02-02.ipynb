{
 "cells": [
  {
   "cell_type": "markdown",
   "metadata": {},
   "source": [
    "## Pseudocódigo 2 - Calculadora Simples\n",
    "\n",
    "Inicie \n",
    "\n",
    "        Exiba \"Bem-vindo à Calculadora\"\n",
    "        Peça para o usuário inserir o primeiro número\n",
    "        Armazene o primeiro número em uma variável\n",
    "        Peça para o usuário inserir o segundo número\n",
    "        Armazene o segundo número em uma variável\n",
    "        Peça para o usuário selecionar uma operação (+, -, *, /)\n",
    "        Armazene a operação em uma variável\n",
    "        Utilize a operação selecionada e os números armazenados para realizar o cálculo\n",
    "        Exiba o resultado\n",
    "\n",
    "Fim"
   ]
  },
  {
   "cell_type": "code",
   "execution_count": null,
   "metadata": {},
   "outputs": [],
   "source": [
    "print(\"Bem-vindo à Calculadora\")"
   ]
  },
  {
   "cell_type": "code",
   "execution_count": null,
   "metadata": {},
   "outputs": [],
   "source": [
    "n1 = float(input(\"Digite o primeiro numero!\"))"
   ]
  },
  {
   "cell_type": "code",
   "execution_count": null,
   "metadata": {},
   "outputs": [],
   "source": [
    "operacao = input(\"Digite a operação! (+, -, *, /)\")"
   ]
  },
  {
   "cell_type": "code",
   "execution_count": null,
   "metadata": {},
   "outputs": [],
   "source": [
    "n2 = float(input(\"Digite o segundo numero!\"))"
   ]
  },
  {
   "cell_type": "code",
   "execution_count": null,
   "metadata": {},
   "outputs": [],
   "source": [
    "if operacao == '+': \n",
    "    total = n1 + n2\n",
    "    print(\"O resultado é: \", total)\n",
    "\n",
    "elif operacao == '-':\n",
    "    total = n1 - n2\n",
    "    print(\"O resultado é: \", total)\n",
    "\n",
    "elif operacao == '*':\n",
    "    total = n1 * n2\n",
    "    print(\"O resultado é: \", total)\n",
    "\n",
    "elif operacao == '/':\n",
    "    if n2 == 0:\n",
    "        print(\"Erro ao dividir por zero!\")\n",
    "    else:\n",
    "        total = n1 / n2\n",
    "        print(\"O resultado é: \", total)\n",
    "else:\n",
    "    print(\"Operação invalida!\")\n"
   ]
  }
 ],
 "metadata": {
  "kernelspec": {
   "display_name": "base",
   "language": "python",
   "name": "python3"
  },
  "language_info": {
   "codemirror_mode": {
    "name": "ipython",
    "version": 3
   },
   "file_extension": ".py",
   "mimetype": "text/x-python",
   "name": "python",
   "nbconvert_exporter": "python",
   "pygments_lexer": "ipython3",
   "version": "3.9.13"
  }
 },
 "nbformat": 4,
 "nbformat_minor": 2
}
