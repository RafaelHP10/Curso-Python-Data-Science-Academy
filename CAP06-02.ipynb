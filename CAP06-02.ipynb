{
 "cells": [
  {
   "cell_type": "markdown",
   "metadata": {},
   "source": [
    "# Data Science Academy\n",
    "\n",
    "## Fundamentos de Linguagem Python Para Análise de Dados e Data Science\n",
    "\n",
    "### Capítulo 6 - Manipulação de Arquivos - Parte 2"
   ]
  },
  {
   "cell_type": "code",
   "execution_count": 6,
   "metadata": {},
   "outputs": [
    {
     "name": "stdout",
     "output_type": "stream",
     "text": [
      "Versão da Linguagem Python Usada Neste Jupyter Notebook: 3.9.13\n"
     ]
    }
   ],
   "source": [
    "# Versão da Linguagem Python\n",
    "from platform import python_version\n",
    "print('Versão da Linguagem Python Usada Neste Jupyter Notebook:', python_version())"
   ]
  },
  {
   "cell_type": "markdown",
   "metadata": {},
   "source": [
    "### Manipulação de Arquivos TXT\n",
    "\n",
    "TXT é a extensão de arquivo para arquivos de texto puro. Um arquivo TXT é um arquivo de texto simples sem formatação, como negrito, itálico ou fontes diferentes. Ele pode ser aberto e editado com muitos aplicativos diferentes, incluindo editores de texto, processadores de texto e IDEs. Arquivos TXT são amplamente utilizados para armazenar dados de texto simples, como listas, notas e documentos de texto. Eles são universais e podem ser lidos em praticamente qualquer dispositivo ou sistema operacional."
   ]
  },
  {
   "cell_type": "code",
   "execution_count": 7,
   "metadata": {},
   "outputs": [
    {
     "name": "stdout",
     "output_type": "stream",
     "text": [
      "Cientistas de Dados pode ser uma excelente alternativa de carreira. \n",
      "Esses profissionais precisam saber como programar em Python. \n",
      "E, claro, devem ser proficientes em Data Science.\n"
     ]
    }
   ],
   "source": [
    "texto = \"Cientistas de Dados pode ser uma excelente alternativa de carreira. \\n\"\n",
    "texto += \"Esses profissionais precisam saber como programar em Python. \\n\"\n",
    "texto += \"E, claro, devem ser proficientes em Data Science.\" \n",
    "\n",
    "print(texto)"
   ]
  },
  {
   "cell_type": "code",
   "execution_count": 8,
   "metadata": {},
   "outputs": [],
   "source": [
    "#Importando o módulo os\n",
    "import os"
   ]
  },
  {
   "cell_type": "code",
   "execution_count": 9,
   "metadata": {},
   "outputs": [],
   "source": [
    "#Criando um arquivo\n",
    "arquivo = open(os.path.join(\"arquivos/cientista.txt\"),'w')\n",
    "\n",
    "#Gravando os dados no arquivo\n",
    "for palavra in texto.split():\n",
    "    arquivo.write(palavra + ' ')\n",
    "\n",
    "#Fechando arquivo\n",
    "arquivo.close()\n"
   ]
  },
  {
   "cell_type": "code",
   "execution_count": 10,
   "metadata": {},
   "outputs": [
    {
     "name": "stdout",
     "output_type": "stream",
     "text": [
      "Cientistas de Dados pode ser uma excelente alternativa de carreira. Esses profissionais precisam saber como programar em Python. E, claro, devem ser proficientes em Data Science. \n"
     ]
    }
   ],
   "source": [
    "#Lendo o arquivo\n",
    "arquivo = open(\"arquivos/cientista.txt\",'r')\n",
    "conteudo = arquivo.read()\n",
    "arquivo.close()\n",
    "\n",
    "print(conteudo)"
   ]
  },
  {
   "cell_type": "markdown",
   "metadata": {},
   "source": [
    "### Usando a expressão WITH\n",
    "\n",
    "O método close() é executado automaticamente"
   ]
  },
  {
   "cell_type": "code",
   "execution_count": 11,
   "metadata": {},
   "outputs": [],
   "source": [
    "with open(\"arquivos/cientista.txt\",'w') as arquivo:\n",
    "    arquivo.write(texto[:19])\n",
    "    arquivo.write('\\n')\n",
    "    arquivo.write(texto[28:66])"
   ]
  },
  {
   "cell_type": "code",
   "execution_count": 12,
   "metadata": {},
   "outputs": [
    {
     "name": "stdout",
     "output_type": "stream",
     "text": [
      "Cientistas de Dados\n",
      " uma excelente alternativa de carreira\n"
     ]
    }
   ],
   "source": [
    "#Lendo o arquivo\n",
    "arquivo = open(\"arquivos/cientista.txt\",'r')\n",
    "conteudo = arquivo.read()\n",
    "arquivo.close()\n",
    "print(conteudo)"
   ]
  },
  {
   "cell_type": "markdown",
   "metadata": {},
   "source": [
    "### Manipulando Arquivos CSV\n",
    "\n",
    "CSV (Comma-Separated-Values) é um formato de arquivo que armazena dados tabulares em formato de texto plano. Cada linha do arquivo CSV representa uma linha da tabela e as colunas são separadas por vírgulas. É amplamente utilizado para exportar e importar dados em diferentes aplicações, como planilhas de dados e bancos de dados. CSV é uma opção simples e universal para compartilhar dados, pois pode ser aberto e editado com muitos aplicativos diferentes, incluindo programas de planilha e editores de texto"
   ]
  },
  {
   "cell_type": "code",
   "execution_count": 13,
   "metadata": {},
   "outputs": [],
   "source": [
    "#Importando o módulo CSV\n",
    "import csv"
   ]
  },
  {
   "cell_type": "code",
   "execution_count": 27,
   "metadata": {},
   "outputs": [],
   "source": [
    "with open(\"arquivos/numeros.csv\",'w') as arquivo:\n",
    "\n",
    "    #Cria o objeto de gravação\n",
    "    write = csv.writer(arquivo)\n",
    "\n",
    "    #Grava no aruivo linha a linha\n",
    "    write.writerow(('nota1','nota2','nota3'))\n",
    "    write.writerow((63,87,92))\n",
    "    write.writerow((61,79,76))\n",
    "    write.writerow((72,64,91))"
   ]
  },
  {
   "cell_type": "code",
   "execution_count": 19,
   "metadata": {},
   "outputs": [
    {
     "name": "stdout",
     "output_type": "stream",
     "text": [
      "['nota1', 'nota2', 'nota3']\n",
      "['63', '87', '92']\n",
      "['61', '79', '76']\n",
      "['72', '64', '91']\n"
     ]
    }
   ],
   "source": [
    "#Leitura de arquivos CSV\n",
    "with open(\"arquivos/numeros.csv\",'r', encoding='utf8', newline='\\r\\n') as arquivo:\n",
    "\n",
    "    #Cria o objeto de leitura\n",
    "    leitor = csv.reader(arquivo)\n",
    "\n",
    "    #Cria o Loop\n",
    "    for x in leitor:\n",
    "        #print('Número de colunas:', len(x))\n",
    "        print(x)"
   ]
  },
  {
   "cell_type": "code",
   "execution_count": 20,
   "metadata": {},
   "outputs": [
    {
     "name": "stdout",
     "output_type": "stream",
     "text": [
      "[['nota1', 'nota2', 'nota3'], [], ['63', '87', '92'], [], ['61', '79', '76'], [], ['72', '64', '91'], []]\n"
     ]
    }
   ],
   "source": [
    "#Gerando uma lista com dados de arquivo CSV\n",
    "with open(\"arquivos/numeros.csv\",'r') as arquivo:\n",
    "    leitor = csv.reader(arquivo)\n",
    "    dados = list(leitor)\n",
    "\n",
    "print(dados)"
   ]
  },
  {
   "cell_type": "code",
   "execution_count": 28,
   "metadata": {},
   "outputs": [
    {
     "name": "stdout",
     "output_type": "stream",
     "text": [
      "[]\n",
      "['63', '87', '92']\n",
      "[]\n",
      "['61', '79', '76']\n",
      "[]\n",
      "['72', '64', '91']\n",
      "[]\n"
     ]
    }
   ],
   "source": [
    "#Imprimindo a partir da segunda linha\n",
    "for linha in dados[1:]:\n",
    "    print(linha)"
   ]
  },
  {
   "cell_type": "markdown",
   "metadata": {},
   "source": [
    "### Manipulando arquivos JSON (Java Script Object Notation)\n",
    "\n",
    "JSON (JavaScript Object Notation) é um formato de dados de texto simples e leve que é utilizado para transmitir informação em aplicações web. É baseado em uma estrutura de objetos JavaScript e usa pares de chave-valor para representar dados. JSON é facilmente lido e escrito por máquinas e é amplamente utilizado como formato de intercâmbio de dados em aplicações web modernas."
   ]
  },
  {
   "cell_type": "code",
   "execution_count": 29,
   "metadata": {},
   "outputs": [],
   "source": [
    "#Criando um dicionario\n",
    "dict = {'nome': 'Guido Van Rossum',\n",
    "        'linguagem': 'Python',\n",
    "        'similar': ['c','Modula-3','lisp'],\n",
    "        'users': 1000000}"
   ]
  },
  {
   "cell_type": "code",
   "execution_count": 30,
   "metadata": {},
   "outputs": [
    {
     "data": {
      "text/plain": [
       "{'nome': 'Guido Van Rossum',\n",
       " 'linguagem': 'Python',\n",
       " 'similar': ['c', 'Modula-3', 'lisp'],\n",
       " 'users': 1000000}"
      ]
     },
     "execution_count": 30,
     "metadata": {},
     "output_type": "execute_result"
    }
   ],
   "source": [
    "dict"
   ]
  },
  {
   "cell_type": "code",
   "execution_count": null,
   "metadata": {},
   "outputs": [],
   "source": []
  }
 ],
 "metadata": {
  "kernelspec": {
   "display_name": "base",
   "language": "python",
   "name": "python3"
  },
  "language_info": {
   "codemirror_mode": {
    "name": "ipython",
    "version": 3
   },
   "file_extension": ".py",
   "mimetype": "text/x-python",
   "name": "python",
   "nbconvert_exporter": "python",
   "pygments_lexer": "ipython3",
   "version": "3.9.13"
  }
 },
 "nbformat": 4,
 "nbformat_minor": 2
}
