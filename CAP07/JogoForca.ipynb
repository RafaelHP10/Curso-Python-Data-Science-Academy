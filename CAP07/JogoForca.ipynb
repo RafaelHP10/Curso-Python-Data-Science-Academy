{
 "cells": [
  {
   "cell_type": "markdown",
   "metadata": {},
   "source": [
    "# Data Science Academy\n",
    "\n",
    "## Fundamentos de Linguagem Python Para Análise de Dados e Data Science\n",
    "\n",
    "### CAP 07 - Projeto 1 - Jogo da Forca"
   ]
  },
  {
   "cell_type": "code",
   "execution_count": 106,
   "metadata": {},
   "outputs": [
    {
     "name": "stdout",
     "output_type": "stream",
     "text": [
      "Versão da Linguagem Python Usada Neste Jupyter Notebook: 3.11.7\n"
     ]
    }
   ],
   "source": [
    "# Versão da Linguagem Python\n",
    "from platform import python_version\n",
    "print('Versão da Linguagem Python Usada Neste Jupyter Notebook:', python_version())"
   ]
  },
  {
   "cell_type": "markdown",
   "metadata": {},
   "source": [
    "### CAP 07 - Projeto 1 - Jogo da Forca"
   ]
  },
  {
   "cell_type": "code",
   "execution_count": 107,
   "metadata": {},
   "outputs": [],
   "source": [
    "#Importa o faker para gerar um nome de estado aleatorio\n",
    "from faker import Faker\n",
    "\n",
    "#Defini que o padrão do faker vai ser pt-br\n",
    "fake = Faker('pt_BR')\n",
    "\n",
    "#Importa o unicodedata para retirar acentuação\n",
    "import unicodedata"
   ]
  },
  {
   "cell_type": "code",
   "execution_count": 108,
   "metadata": {},
   "outputs": [],
   "source": [
    "#Função para gerar o nome de estado aleatório\n",
    "def geraNome():\n",
    "    return fake.administrative_unit()"
   ]
  },
  {
   "cell_type": "code",
   "execution_count": 109,
   "metadata": {},
   "outputs": [],
   "source": [
    "#Função para remover a acentuação\n",
    "def remove_acentuacao(texto):\n",
    "    # Normaliza o texto para decompor caracteres acentuados em caracteres base e diacríticos separados\n",
    "    texto_normalizado = unicodedata.normalize('NFKD', texto)\n",
    "    # Filtra apenas caracteres que não são diacríticos\n",
    "    texto_sem_acentos = ''.join(c for c in texto_normalizado if not unicodedata.combining(c))\n",
    "    return texto_sem_acentos"
   ]
  },
  {
   "cell_type": "code",
   "execution_count": 110,
   "metadata": {},
   "outputs": [],
   "source": [
    "#Função para atualizar o resultado incluindo as letras que o chute acertou\n",
    "def atualiza_resultado(lista_nome, chute, resultado):\n",
    "    for i, x in enumerate(lista_nome):\n",
    "        if x == chute:\n",
    "             resultado[i] = chute\n",
    "    return resultado"
   ]
  },
  {
   "cell_type": "code",
   "execution_count": 111,
   "metadata": {},
   "outputs": [],
   "source": [
    "#Verificando se toda a palavra já foi descoberta\n",
    "def valida_resultado(resultado):\n",
    "    if '' in resultado:\n",
    "        return False\n",
    "    else:\n",
    "        return True"
   ]
  },
  {
   "cell_type": "code",
   "execution_count": 112,
   "metadata": {},
   "outputs": [],
   "source": [
    "#Verifica se o chute é uma letra e tem apenas 1 caracter\n",
    "def valida_chute():\n",
    "    while True:\n",
    "        letra = input(\"Digite uma letra!\")\n",
    "        if len(letra) == 1 and letra.isalpha():\n",
    "            return letra\n",
    "        else:\n",
    "            print(\"Tente novamente!\")"
   ]
  },
  {
   "cell_type": "code",
   "execution_count": 113,
   "metadata": {},
   "outputs": [],
   "source": [
    "#Gerando o nome de estado aleatório já retirando a acentuação\n",
    "nome = remove_acentuacao(geraNome().upper())"
   ]
  },
  {
   "cell_type": "code",
   "execution_count": 114,
   "metadata": {},
   "outputs": [],
   "source": [
    "#Tranformando o nome em lista\n",
    "lista_nome = list(nome)"
   ]
  },
  {
   "cell_type": "code",
   "execution_count": 115,
   "metadata": {},
   "outputs": [],
   "source": [
    "#Gerando a lista de resultado vazia\n",
    "resultado = []\n",
    "letras_erradas = []\n",
    "\n",
    "for x in lista_nome:\n",
    "    resultado.append('')"
   ]
  },
  {
   "cell_type": "code",
   "execution_count": 116,
   "metadata": {},
   "outputs": [],
   "source": [
    "#Defini a quantidade de erros que podem ser cometidos\n",
    "chances = 6"
   ]
  },
  {
   "cell_type": "code",
   "execution_count": 117,
   "metadata": {},
   "outputs": [
    {
     "name": "stdout",
     "output_type": "stream",
     "text": [
      "Tente acertar o nome do estado com 18 letras!\n",
      "['', '', '', '', '', '', '', '', '', '', '', '', '', '', '', '', '', '']\n",
      "Você tem 6 tentativas!\n",
      "-------------------------------------------------------\n",
      "['', 'A', '', '', '', '', '', '', '', '', '', '', '', '', '', '', '', '']\n",
      "Você tem 6 tentativas!\n",
      "Letras erradas:  []\n",
      "-------------------------------------------------------\n",
      "-------------------------------------------------------\n",
      "['', 'A', '', '', '', '', '', '', '', '', '', '', '', '', '', '', '', '']\n",
      "Você tem 5 tentativas!\n",
      "Letras erradas:  ['I']\n",
      "-------------------------------------------------------\n",
      "-------------------------------------------------------\n",
      "['', 'A', '', 'O', '', '', '', 'O', '', '', 'O', '', '', 'O', '', '', '', '']\n",
      "Você tem 5 tentativas!\n",
      "Letras erradas:  ['I']\n",
      "-------------------------------------------------------\n",
      "-------------------------------------------------------\n",
      "['', 'A', '', 'O', '', '', '', 'O', '', '', 'O', '', '', 'O', '', '', 'U', '']\n",
      "Você tem 5 tentativas!\n",
      "Letras erradas:  ['I']\n",
      "-------------------------------------------------------\n",
      "-------------------------------------------------------\n",
      "['', 'A', '', 'O', '', '', '', 'O', '', '', 'O', '', '', 'O', '', '', 'U', '']\n",
      "Você tem 4 tentativas!\n",
      "Letras erradas:  ['I', 'P']\n",
      "-------------------------------------------------------\n",
      "-------------------------------------------------------\n",
      "['', 'A', 'T', 'O', '', '', '', 'O', '', '', 'O', '', '', 'O', '', '', 'U', '']\n",
      "Você tem 4 tentativas!\n",
      "Letras erradas:  ['I', 'P']\n",
      "-------------------------------------------------------\n",
      "-------------------------------------------------------\n",
      "['', 'A', 'T', 'O', '', '', '', 'O', '', '', 'O', '', '', 'O', '', '', 'U', '']\n",
      "Você tem 3 tentativas!\n",
      "Letras erradas:  ['I', 'P', 'Z']\n",
      "-------------------------------------------------------\n",
      "-------------------------------------------------------\n",
      "['', 'A', 'T', 'O', '', '', '', 'O', '', '', 'O', '', '', 'O', '', '', 'U', '']\n",
      "Você tem 2 tentativas!\n",
      "Letras erradas:  ['I', 'P', 'Z', 'F']\n",
      "-------------------------------------------------------\n",
      "-------------------------------------------------------\n",
      "['', 'A', 'T', 'O', '', 'G', '', 'O', '', '', 'O', '', '', 'O', '', '', 'U', '']\n",
      "Você tem 2 tentativas!\n",
      "Letras erradas:  ['I', 'P', 'Z', 'F']\n",
      "-------------------------------------------------------\n",
      "-------------------------------------------------------\n",
      "['', 'A', 'T', 'O', '', 'G', '', 'O', '', '', 'O', '', '', 'O', '', '', 'U', '']\n",
      "Você tem 1 tentativas!\n",
      "Letras erradas:  ['I', 'P', 'Z', 'F', 'K']\n",
      "-------------------------------------------------------\n",
      "-------------------------------------------------------\n",
      "['', 'A', 'T', 'O', '', 'G', '', 'O', '', '', 'O', '', '', 'O', '', '', 'U', '']\n",
      "Você tem 0 tentativas!\n",
      "Letras erradas:  ['I', 'P', 'Z', 'F', 'K', 'H']\n",
      "-------------------------------------------------------\n",
      "Não foi dessa vez, tente novamente! o estado era: MATO GROSSO DO SUL\n",
      "-------------------------------------------------------\n"
     ]
    }
   ],
   "source": [
    "#Enquanto ainda tiver chances disponiveis e não tiver encontrado o resultado continua o loop\n",
    "#Imprimi o resultado\n",
    "print(f\"Tente acertar o nome do estado com {len(nome)} letras!\")\n",
    "print(resultado)\n",
    "print(f\"Você tem {chances} tentativas!\")\n",
    "\n",
    "while chances > 0 and valida_resultado(resultado) == False:\n",
    "\n",
    "    \n",
    "    \n",
    "    #Faz o chute\n",
    "    chute = valida_chute()\n",
    "\n",
    "    if chute.upper() in lista_nome:\n",
    "        resultado = atualiza_resultado(lista_nome, chute.upper(), resultado)\n",
    "    else:   \n",
    "        chances -= 1\n",
    "        letras_erradas.append(chute.upper())\n",
    "\n",
    "    print(\"-------------------------------------------------------\")\n",
    "    print(resultado)\n",
    "    print(f\"Você tem {chances} tentativas!\")\n",
    "    print(\"Letras erradas: \", letras_erradas)\n",
    "    print(\"-------------------------------------------------------\")\n",
    "\n",
    "if valida_resultado(resultado) == True:\n",
    "    print(\"Acertou mizeravi! O estado correto é o: \"+nome)\n",
    "    print(\"-------------------------------------------------------\")\n",
    "else:\n",
    "    print(\"Não foi dessa vez, tente novamente! o estado era: \"+nome)\n",
    "    print(\"-------------------------------------------------------\")\n",
    "    "
   ]
  }
 ],
 "metadata": {
  "kernelspec": {
   "display_name": "base",
   "language": "python",
   "name": "python3"
  },
  "language_info": {
   "codemirror_mode": {
    "name": "ipython",
    "version": 3
   },
   "file_extension": ".py",
   "mimetype": "text/x-python",
   "name": "python",
   "nbconvert_exporter": "python",
   "pygments_lexer": "ipython3",
   "version": "3.11.7"
  }
 },
 "nbformat": 4,
 "nbformat_minor": 2
}
