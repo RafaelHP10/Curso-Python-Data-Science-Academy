{
 "cells": [
  {
   "cell_type": "markdown",
   "metadata": {},
   "source": [
    "## Pseudocódigo 3 - Algoritimo Bubble Sort\n",
    "\n",
    "Bubble Sort é um algoritmo de ordenação simples que funciona comparando cada elemento com o próximo e trocando-os de lugar se eles estiverem em ordem incorreta. O algoritimo repete esse processo várias vezes, até que todos os elementos estejam ordenados. A cada passagem, o maior elemento \"flutua\" para ofinal do array, como uma bolha, dando origem ao nome do algoritimo.\n",
    "\n",
    "Inicie\n",
    "\n",
    "        Para cada elemento i no array de tamanho n\n",
    "            Para cada elemento j no array de tamanho n - 1\n",
    "                Se o elemento i for maior que o elemento j\n",
    "                    Troque os elementos i e j\n",
    "        Exiba o array ordenado\n",
    "\n",
    "Fim"
   ]
  },
  {
   "cell_type": "code",
   "execution_count": 2,
   "metadata": {},
   "outputs": [],
   "source": [
    "lista = [6,7,8,3,10,19,4,1,0,61,30,16,17,82,29,34,43,21,11,39,56,67,12]"
   ]
  },
  {
   "cell_type": "code",
   "execution_count": 3,
   "metadata": {},
   "outputs": [],
   "source": [
    "def bubble_sort(arr):\n",
    "    \n",
    "    n = len(arr)\n",
    "\n",
    "    #Para cada elemento i no array de tamanho n\n",
    "    for i in range(n):\n",
    "\n",
    "        #Para cada elemento j no array de tamanho n - 1\n",
    "        for j in range(0, n-i-1):\n",
    "\n",
    "            #Se o elemento i for maior que o elemento j\n",
    "            if arr[j] > arr[j+1]:\n",
    "\n",
    "                #Troque os elementos i e j\n",
    "                arr[j], arr[j+1] = arr[j+1], arr[j]\n",
    "    return arr"
   ]
  },
  {
   "cell_type": "code",
   "execution_count": 4,
   "metadata": {},
   "outputs": [
    {
     "name": "stdout",
     "output_type": "stream",
     "text": [
      "[0, 1, 3, 4, 6, 7, 8, 10, 11, 12, 16, 17, 19, 21, 29, 30, 34, 39, 43, 56, 61, 67, 82]\n"
     ]
    }
   ],
   "source": [
    "print(bubble_sort(lista))"
   ]
  }
 ],
 "metadata": {
  "kernelspec": {
   "display_name": "base",
   "language": "python",
   "name": "python3"
  },
  "language_info": {
   "codemirror_mode": {
    "name": "ipython",
    "version": 3
   },
   "file_extension": ".py",
   "mimetype": "text/x-python",
   "name": "python",
   "nbconvert_exporter": "python",
   "pygments_lexer": "ipython3",
   "version": "3.9.13"
  }
 },
 "nbformat": 4,
 "nbformat_minor": 2
}
